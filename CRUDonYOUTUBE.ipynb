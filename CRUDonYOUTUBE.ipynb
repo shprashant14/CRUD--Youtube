{
 "cells": [
  {
   "cell_type": "code",
   "execution_count": null,
   "metadata": {
    "colab": {
     "base_uri": "https://localhost:8080/"
    },
    "id": "beIYCAxO01p1",
    "outputId": "becb10f9-7533-4253-af10-269cf2279c96"
   },
   "outputs": [
    {
     "name": "stdout",
     "output_type": "stream",
     "text": [
      "Drive already mounted at /content/drive; to attempt to forcibly remount, call drive.mount(\"/content/drive\", force_remount=True).\n"
     ]
    }
   ],
   "source": [
    "from google.colab import drive\n",
    "drive.mount('/content/drive')"
   ]
  },
  {
   "cell_type": "code",
   "execution_count": null,
   "metadata": {
    "colab": {
     "base_uri": "https://localhost:8080/"
    },
    "id": "Tn1J3qxa035v",
    "outputId": "ccbabc80-4500-4526-9d0e-f3b9145ce150"
   },
   "outputs": [
    {
     "name": "stdout",
     "output_type": "stream",
     "text": [
      "Requirement already satisfied: google-auth in /usr/local/lib/python3.10/dist-packages (2.27.0)\n",
      "Requirement already satisfied: google-auth-oauthlib in /usr/local/lib/python3.10/dist-packages (0.4.1)\n",
      "Requirement already satisfied: google-auth-httplib2 in /usr/local/lib/python3.10/dist-packages (0.2.0)\n",
      "Requirement already satisfied: google-api-python-client in /usr/local/lib/python3.10/dist-packages (2.137.0)\n",
      "Requirement already satisfied: oauth2client in /usr/local/lib/python3.10/dist-packages (4.1.3)\n",
      "Requirement already satisfied: cachetools<6.0,>=2.0.0 in /usr/local/lib/python3.10/dist-packages (from google-auth) (5.5.0)\n",
      "Requirement already satisfied: pyasn1-modules>=0.2.1 in /usr/local/lib/python3.10/dist-packages (from google-auth) (0.4.1)\n",
      "Requirement already satisfied: rsa<5,>=3.1.4 in /usr/local/lib/python3.10/dist-packages (from google-auth) (4.9)\n",
      "Requirement already satisfied: requests-oauthlib>=0.7.0 in /usr/local/lib/python3.10/dist-packages (from google-auth-oauthlib) (1.3.1)\n",
      "Requirement already satisfied: httplib2>=0.19.0 in /usr/local/lib/python3.10/dist-packages (from google-auth-httplib2) (0.22.0)\n",
      "Requirement already satisfied: google-api-core!=2.0.*,!=2.1.*,!=2.2.*,!=2.3.0,<3.0.0.dev0,>=1.31.5 in /usr/local/lib/python3.10/dist-packages (from google-api-python-client) (2.19.2)\n",
      "Requirement already satisfied: uritemplate<5,>=3.0.1 in /usr/local/lib/python3.10/dist-packages (from google-api-python-client) (4.1.1)\n",
      "Requirement already satisfied: pyasn1>=0.1.7 in /usr/local/lib/python3.10/dist-packages (from oauth2client) (0.6.1)\n",
      "Requirement already satisfied: six>=1.6.1 in /usr/local/lib/python3.10/dist-packages (from oauth2client) (1.16.0)\n",
      "Requirement already satisfied: googleapis-common-protos<2.0.dev0,>=1.56.2 in /usr/local/lib/python3.10/dist-packages (from google-api-core!=2.0.*,!=2.1.*,!=2.2.*,!=2.3.0,<3.0.0.dev0,>=1.31.5->google-api-python-client) (1.65.0)\n",
      "Requirement already satisfied: protobuf!=3.20.0,!=3.20.1,!=4.21.0,!=4.21.1,!=4.21.2,!=4.21.3,!=4.21.4,!=4.21.5,<6.0.0.dev0,>=3.19.5 in /usr/local/lib/python3.10/dist-packages (from google-api-core!=2.0.*,!=2.1.*,!=2.2.*,!=2.3.0,<3.0.0.dev0,>=1.31.5->google-api-python-client) (3.20.3)\n",
      "Requirement already satisfied: proto-plus<2.0.0dev,>=1.22.3 in /usr/local/lib/python3.10/dist-packages (from google-api-core!=2.0.*,!=2.1.*,!=2.2.*,!=2.3.0,<3.0.0.dev0,>=1.31.5->google-api-python-client) (1.24.0)\n",
      "Requirement already satisfied: requests<3.0.0.dev0,>=2.18.0 in /usr/local/lib/python3.10/dist-packages (from google-api-core!=2.0.*,!=2.1.*,!=2.2.*,!=2.3.0,<3.0.0.dev0,>=1.31.5->google-api-python-client) (2.32.3)\n",
      "Requirement already satisfied: pyparsing!=3.0.0,!=3.0.1,!=3.0.2,!=3.0.3,<4,>=2.4.2 in /usr/local/lib/python3.10/dist-packages (from httplib2>=0.19.0->google-auth-httplib2) (3.2.0)\n",
      "Requirement already satisfied: oauthlib>=3.0.0 in /usr/local/lib/python3.10/dist-packages (from requests-oauthlib>=0.7.0->google-auth-oauthlib) (3.2.2)\n",
      "Requirement already satisfied: charset-normalizer<4,>=2 in /usr/local/lib/python3.10/dist-packages (from requests<3.0.0.dev0,>=2.18.0->google-api-core!=2.0.*,!=2.1.*,!=2.2.*,!=2.3.0,<3.0.0.dev0,>=1.31.5->google-api-python-client) (3.4.0)\n",
      "Requirement already satisfied: idna<4,>=2.5 in /usr/local/lib/python3.10/dist-packages (from requests<3.0.0.dev0,>=2.18.0->google-api-core!=2.0.*,!=2.1.*,!=2.2.*,!=2.3.0,<3.0.0.dev0,>=1.31.5->google-api-python-client) (3.10)\n",
      "Requirement already satisfied: urllib3<3,>=1.21.1 in /usr/local/lib/python3.10/dist-packages (from requests<3.0.0.dev0,>=2.18.0->google-api-core!=2.0.*,!=2.1.*,!=2.2.*,!=2.3.0,<3.0.0.dev0,>=1.31.5->google-api-python-client) (2.2.3)\n",
      "Requirement already satisfied: certifi>=2017.4.17 in /usr/local/lib/python3.10/dist-packages (from requests<3.0.0.dev0,>=2.18.0->google-api-core!=2.0.*,!=2.1.*,!=2.2.*,!=2.3.0,<3.0.0.dev0,>=1.31.5->google-api-python-client) (2024.8.30)\n"
     ]
    }
   ],
   "source": [
    "!pip install google-auth google-auth-oauthlib google-auth-httplib2 google-api-python-client oauth2client"
   ]
  },
  {
   "cell_type": "code",
   "execution_count": null,
   "metadata": {
    "colab": {
     "base_uri": "https://localhost:8080/"
    },
    "id": "oyaxFcgJAWOo",
    "outputId": "de577a70-41a1-4410-dff3-c538eb9870a9"
   },
   "outputs": [
    {
     "name": "stdout",
     "output_type": "stream",
     "text": [
      "Requirement already satisfied: google-auth-oauthlib==0.4.1 in /usr/local/lib/python3.10/dist-packages (0.4.1)\n",
      "Requirement already satisfied: google-auth in /usr/local/lib/python3.10/dist-packages (from google-auth-oauthlib==0.4.1) (2.27.0)\n",
      "Requirement already satisfied: requests-oauthlib>=0.7.0 in /usr/local/lib/python3.10/dist-packages (from google-auth-oauthlib==0.4.1) (1.3.1)\n",
      "Requirement already satisfied: oauthlib>=3.0.0 in /usr/local/lib/python3.10/dist-packages (from requests-oauthlib>=0.7.0->google-auth-oauthlib==0.4.1) (3.2.2)\n",
      "Requirement already satisfied: requests>=2.0.0 in /usr/local/lib/python3.10/dist-packages (from requests-oauthlib>=0.7.0->google-auth-oauthlib==0.4.1) (2.32.3)\n",
      "Requirement already satisfied: cachetools<6.0,>=2.0.0 in /usr/local/lib/python3.10/dist-packages (from google-auth->google-auth-oauthlib==0.4.1) (5.5.0)\n",
      "Requirement already satisfied: pyasn1-modules>=0.2.1 in /usr/local/lib/python3.10/dist-packages (from google-auth->google-auth-oauthlib==0.4.1) (0.4.1)\n",
      "Requirement already satisfied: rsa<5,>=3.1.4 in /usr/local/lib/python3.10/dist-packages (from google-auth->google-auth-oauthlib==0.4.1) (4.9)\n",
      "Requirement already satisfied: pyasn1<0.7.0,>=0.4.6 in /usr/local/lib/python3.10/dist-packages (from pyasn1-modules>=0.2.1->google-auth->google-auth-oauthlib==0.4.1) (0.6.1)\n",
      "Requirement already satisfied: charset-normalizer<4,>=2 in /usr/local/lib/python3.10/dist-packages (from requests>=2.0.0->requests-oauthlib>=0.7.0->google-auth-oauthlib==0.4.1) (3.4.0)\n",
      "Requirement already satisfied: idna<4,>=2.5 in /usr/local/lib/python3.10/dist-packages (from requests>=2.0.0->requests-oauthlib>=0.7.0->google-auth-oauthlib==0.4.1) (3.10)\n",
      "Requirement already satisfied: urllib3<3,>=1.21.1 in /usr/local/lib/python3.10/dist-packages (from requests>=2.0.0->requests-oauthlib>=0.7.0->google-auth-oauthlib==0.4.1) (2.2.3)\n",
      "Requirement already satisfied: certifi>=2017.4.17 in /usr/local/lib/python3.10/dist-packages (from requests>=2.0.0->requests-oauthlib>=0.7.0->google-auth-oauthlib==0.4.1) (2024.8.30)\n"
     ]
    }
   ],
   "source": [
    "!pip install google-auth-oauthlib==0.4.1"
   ]
  },
  {
   "cell_type": "code",
   "execution_count": null,
   "metadata": {
    "colab": {
     "base_uri": "https://localhost:8080/"
    },
    "id": "FW5PhS9PAjLV",
    "outputId": "d70f90cc-c693-40a8-d657-95626b66b19e"
   },
   "outputs": [],
   "source": [
    "import google_auth_oauthlib.flow\n",
    "import googleapiclient.discovery\n",
    "\n",
    "CLIENT_SECRETS_FILE = \"replace with the link to client secret file\"\n",
    "\n",
    "SCOPES = [\"https://www.googleapis.com/auth/youtube.force-ssl\"]\n",
    "\n",
    "def authenticate():\n",
    "    flow = google_auth_oauthlib.flow.InstalledAppFlow.from_client_secrets_file(\n",
    "        CLIENT_SECRETS_FILE, SCOPES\n",
    "    )\n",
    "    credentials = flow.run_console()\n",
    "\n",
    "    youtube = googleapiclient.discovery.build(\"youtube\", \"v3\", credentials=credentials)\n",
    "    return youtube\n",
    "\n",
    "youtube = authenticate()"
   ]
  },
  {
   "cell_type": "markdown",
   "metadata": {
    "id": "TFANrpnc6HQE"
   },
   "source": [
    "Creating"
   ]
  },
  {
   "cell_type": "code",
   "execution_count": null,
   "metadata": {
    "colab": {
     "base_uri": "https://localhost:8080/",
     "height": 462
    },
    "id": "AhkmWWPnA0qs",
    "outputId": "e6d8dfe6-6a65-42d5-b72e-6ffc3762ba78"
   },
   "outputs": [],
   "source": [
    "def upload_video(youtube, video_file, title, description, category_id, tags):\n",
    "    body = {\n",
    "        'snippet': {\n",
    "            'title': title,\n",
    "            'description': description,\n",
    "            'tags': tags,\n",
    "            'categoryId': category_id,\n",
    "        },\n",
    "        'status': {\n",
    "            'privacyStatus': 'private'\n",
    "        }\n",
    "    }\n",
    "\n",
    "    request = youtube.videos().insert(\n",
    "        part=\"snippet,status\",\n",
    "        body=body,\n",
    "        media_body=video_file\n",
    "    )\n",
    "    response = request.execute()\n",
    "    return response\n",
    "\n",
    "video_file = \"replace with the link to video file\"\n",
    "title = \"A Divine Experience at Prem Mandir, Vrindavan\"\n",
    "description = \"Experience the spiritual beauty and architectural marvel of Prem Mandir, Vrindavan. Built by Jagadguru Shri Kripalu Ji Maharaj, this temple stands as a tribute to divine love, embodying the stories of Lord Krishna and Radha. Located in the heart of Vrindavan, the temple is renowned for its stunning white marble architecture, intricate carvings, and vibrant lighting that creates an enchanting ambiance every evening. Explore the temple’s two floors adorned with exquisite sculptures depicting scenes from Krishna Leela and the life of Radha Krishna. Join us in this journey to one of the most revered sites in Vrindavan, where devotion and artistry come together in perfect harmony.\"\n",
    "category_id = \"22\"\n",
    "tags = [\"Prem Mandir\", \"Vrindavan\", \"Radha Krishna\", \"Jagadguru Kripaluji Maharaj\", \"Krishna Leela\", \"Hindu Temple\", \"Spiritual India\", \"Vrindavan Temples\", \"Divine Love\", \"Holy Places in India\", \"ISKCON\", \"Indian Culture\", \"Temple Architecture\", \"Bhakti\"]\n",
    "\n",
    "upload_response = upload_video(youtube, video_file, title, description, category_id, tags)\n",
    "print(\"Upload response:\", upload_response)"
   ]
  },
  {
   "cell_type": "markdown",
   "metadata": {
    "id": "wP_bRjVn6CUP"
   },
   "source": [
    "Reading"
   ]
  },
  {
   "cell_type": "code",
   "execution_count": null,
   "metadata": {
    "colab": {
     "base_uri": "https://localhost:8080/"
    },
    "id": "mB595dqK2cp5",
    "outputId": "1114aea6-2696-4ac4-ee5a-f53ed471215a"
   },
   "outputs": [
    {
     "name": "stdout",
     "output_type": "stream",
     "text": [
      "Video details: {'kind': 'youtube#videoListResponse', 'etag': 'sh0b46KHuylaQhmuGzmwZyuvshM', 'items': [{'kind': 'youtube#video', 'etag': 'Uq4o3FSxA_SBR93-AVS1W1iaXVU', 'id': '4GqamhOoMIk', 'snippet': {'publishedAt': '2024-10-27T19:16:09Z', 'channelId': 'UC6ptYNHG14jYIGdQFL3jDyA', 'title': 'A Divine Experience at Prem Mandir, Vrindavan', 'description': 'Experience the spiritual beauty and architectural marvel of Prem Mandir, Vrindavan. Built by Jagadguru Shri Kripalu Ji Maharaj, this temple stands as a tribute to divine love, embodying the stories of Lord Krishna and Radha. Located in the heart of Vrindavan, the temple is renowned for its stunning white marble architecture, intricate carvings, and vibrant lighting that creates an enchanting ambiance every evening. Explore the temple’s two floors adorned with exquisite sculptures depicting scenes from Krishna Leela and the life of Radha Krishna. Join us in this journey to one of the most revered sites in Vrindavan, where devotion and artistry come together in perfect harmony.', 'thumbnails': {'default': {'url': 'https://i9.ytimg.com/vi/4GqamhOoMIk/default.jpg?sqp=CLSi-rgG&rs=AOn4CLDJxnVwJC6nQE38tfXv29v2AkHL3w', 'width': 120, 'height': 90}, 'medium': {'url': 'https://i9.ytimg.com/vi/4GqamhOoMIk/mqdefault.jpg?sqp=CLSi-rgG&rs=AOn4CLCKPERFI9G6AMugvE2JEs1MGoFiXA', 'width': 320, 'height': 180}, 'high': {'url': 'https://i9.ytimg.com/vi/4GqamhOoMIk/hqdefault.jpg?sqp=CLSi-rgG&rs=AOn4CLDE-FG-FY2vwu4oyaYAx0lduICozA', 'width': 480, 'height': 360}, 'standard': {'url': 'https://i9.ytimg.com/vi/4GqamhOoMIk/sddefault.jpg?sqp=CLSi-rgG&rs=AOn4CLA3H37v49hMD16E9o3G1B93Ut5ksw', 'width': 640, 'height': 480}}, 'channelTitle': 'Prashant Sharma', 'tags': ['Bhakti', 'Divine Love', 'Hindu Temple', 'Holy Places in India', 'ISKCON', 'Indian Culture', 'Jagadguru Kripaluji Maharaj', 'Krishna Leela', 'Prem Mandir', 'Radha Krishna', 'Spiritual India', 'Temple Architecture', 'Vrindavan', 'Vrindavan Temples'], 'categoryId': '22', 'liveBroadcastContent': 'none', 'localized': {'title': 'A Divine Experience at Prem Mandir, Vrindavan', 'description': 'Experience the spiritual beauty and architectural marvel of Prem Mandir, Vrindavan. Built by Jagadguru Shri Kripalu Ji Maharaj, this temple stands as a tribute to divine love, embodying the stories of Lord Krishna and Radha. Located in the heart of Vrindavan, the temple is renowned for its stunning white marble architecture, intricate carvings, and vibrant lighting that creates an enchanting ambiance every evening. Explore the temple’s two floors adorned with exquisite sculptures depicting scenes from Krishna Leela and the life of Radha Krishna. Join us in this journey to one of the most revered sites in Vrindavan, where devotion and artistry come together in perfect harmony.'}}, 'contentDetails': {'duration': 'PT29S', 'dimension': '2d', 'definition': 'hd', 'caption': 'false', 'licensedContent': False, 'contentRating': {}, 'projection': 'rectangular', 'hasCustomThumbnail': False}, 'statistics': {'viewCount': '0', 'likeCount': '0', 'dislikeCount': '0', 'favoriteCount': '0', 'commentCount': '0'}}], 'pageInfo': {'totalResults': 1, 'resultsPerPage': 1}}\n"
     ]
    }
   ],
   "source": [
    "def get_video_details(youtube, video_id):\n",
    "    request = youtube.videos().list(\n",
    "        part=\"snippet,contentDetails,statistics\",\n",
    "        id=video_id\n",
    "    )\n",
    "    response = request.execute()\n",
    "    return response\n",
    "\n",
    "video_id = \"4GqamhOoMIk\"\n",
    "video_details = get_video_details(youtube, video_id)\n",
    "print(\"Video details:\", video_details)\n"
   ]
  },
  {
   "cell_type": "markdown",
   "metadata": {
    "id": "vw2i8UdL5-zF"
   },
   "source": [
    "Updating"
   ]
  },
  {
   "cell_type": "code",
   "execution_count": null,
   "metadata": {
    "id": "sQAUjhvuMePT"
   },
   "outputs": [],
   "source": [
    "def update_video_details(youtube, video_id, new_title=None, new_description=None, new_tags=None):\n",
    "    video_details = get_video_details(youtube, video_id)\n",
    "    categoryId = video_details['items'][0]['snippet'].get('categoryId')\n",
    "\n",
    "    body = {'id': video_id}\n",
    "    if new_title:\n",
    "        body['snippet'] = {'title': new_title}\n",
    "    if new_description:\n",
    "        if 'snippet' not in body:\n",
    "            body['snippet'] = {}\n",
    "        body['snippet']['description'] = new_description\n",
    "    if new_tags:\n",
    "        if 'snippet' not in body:\n",
    "            body['snippet'] = {}\n",
    "        body['snippet']['tags'] = new_tags\n",
    "\n",
    "    if categoryId:\n",
    "        if 'snippet' not in body:\n",
    "            body['snippet'] = {}\n",
    "        body['snippet']['categoryId'] = categoryId\n",
    "\n",
    "    if body:\n",
    "        request = youtube.videos().update(\n",
    "            part=\"snippet\",\n",
    "            body=body,\n",
    "        )\n",
    "        response = request.execute()\n",
    "        return response\n",
    "    else:\n",
    "        return \"No changes specified for update.\""
   ]
  },
  {
   "cell_type": "code",
   "execution_count": null,
   "metadata": {
    "colab": {
     "base_uri": "https://localhost:8080/",
     "height": 327
    },
    "id": "pSVmbQ0gLlVZ",
    "outputId": "46a4d420-8893-4475-8d4a-fbef573bc9e4"
   },
   "outputs": [],
   "source": [
    "video_id = \"4GqamhOoMIk\"\n",
    "new_title = \"Updated Title: Prem Mandir in Vrindavan\"\n",
    "new_description = \"Updated description: This is an updated description.\"\n",
    "new_tags = [\"Prem Mandir\", \"Vrindavan\", \"Updated Tag\"]\n",
    "\n",
    "update_response = update_video_details(youtube, video_id, new_title, new_description, new_tags)\n",
    "print(\"Update response:\", update_response)"
   ]
  },
  {
   "cell_type": "markdown",
   "metadata": {
    "id": "wXny2ZVKNMeq"
   },
   "source": [
    "Deleting\n",
    "\n",
    "\n",
    "\n",
    "\n",
    "\n",
    "\n"
   ]
  },
  {
   "cell_type": "code",
   "execution_count": null,
   "metadata": {
    "colab": {
     "base_uri": "https://localhost:8080/"
    },
    "id": "rgiMxb5YMGlV",
    "outputId": "56d3d26d-dd96-4f57-d377-d84ef84b7b1c"
   },
   "outputs": [
    {
     "name": "stdout",
     "output_type": "stream",
     "text": [
      "Deleted \n"
     ]
    }
   ],
   "source": [
    "def delete_video(youtube, video_id):\n",
    "    request = youtube.videos().delete(id=video_id)\n",
    "    response = request.execute()\n",
    "    return response\n",
    "\n",
    "delete_response = delete_video(youtube, video_id)\n",
    "print(\"Deleted\", delete_response)"
   ]
  },
  {
   "cell_type": "code",
   "execution_count": null,
   "metadata": {
    "id": "ddESKCXlNaII"
   },
   "outputs": [],
   "source": []
  }
 ],
 "metadata": {
  "colab": {
   "provenance": []
  },
  "kernelspec": {
   "display_name": "Python 3",
   "name": "python3"
  },
  "language_info": {
   "name": "python"
  }
 },
 "nbformat": 4,
 "nbformat_minor": 0
}
